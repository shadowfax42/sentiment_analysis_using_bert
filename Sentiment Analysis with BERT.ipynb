{
 "cells": [
  {
   "cell_type": "markdown",
   "id": "e34112ec",
   "metadata": {},
   "source": [
    "# Sentiment Analysis of Restaurant reviews using BERT"
   ]
  },
  {
   "cell_type": "markdown",
   "id": "67dcb96f",
   "metadata": {},
   "source": [
    "## Install dependencies"
   ]
  },
  {
   "cell_type": "code",
   "execution_count": null,
   "id": "3cd5dc99",
   "metadata": {},
   "outputs": [],
   "source": [
    "# !pip install torch torchvision torchaudio"
   ]
  },
  {
   "cell_type": "code",
   "execution_count": null,
   "id": "cd6799f4",
   "metadata": {},
   "outputs": [],
   "source": [
    "# !pip install transformers requests beautifulsoup4 pandas numpy.v"
   ]
  },
  {
   "cell_type": "code",
   "execution_count": 3,
   "id": "393cdfe0",
   "metadata": {},
   "outputs": [],
   "source": [
    "from transformers import AutoTokenizer, AutoModelForSequenceClassification\n",
    "import torch\n",
    "import requests\n",
    "from bs4 import BeautifulSoup\n",
    "import re\n",
    "import pandas as pd\n",
    "import numpy as np\n",
    "import time"
   ]
  },
  {
   "cell_type": "markdown",
   "id": "7ce80f3b",
   "metadata": {},
   "source": [
    "## Instantiate Model"
   ]
  },
  {
   "cell_type": "code",
   "execution_count": 4,
   "id": "277939b9",
   "metadata": {},
   "outputs": [
    {
     "name": "stderr",
     "output_type": "stream",
     "text": [
      "tokenizer_config.json: 100%|██████████| 39.0/39.0 [00:00<?, ?B/s]\n",
      "c:\\Users\\Siham\\OneDrive\\Desktop\\Projects\\sentiment_analysis_using_bert\\.venv\\lib\\site-packages\\huggingface_hub\\file_download.py:147: UserWarning: `huggingface_hub` cache-system uses symlinks by default to efficiently store duplicated files but your machine does not support them in C:\\Users\\Siham\\.cache\\huggingface\\hub. Caching files will still work but in a degraded version that might require more space on your disk. This warning can be disabled by setting the `HF_HUB_DISABLE_SYMLINKS_WARNING` environment variable. For more details, see https://huggingface.co/docs/huggingface_hub/how-to-cache#limitations.\n",
      "To support symlinks on Windows, you either need to activate Developer Mode or to run Python as an administrator. In order to see activate developer mode, see this article: https://docs.microsoft.com/en-us/windows/apps/get-started/enable-your-device-for-development\n",
      "  warnings.warn(message)\n",
      "config.json: 100%|██████████| 953/953 [00:00<00:00, 833kB/s]\n",
      "vocab.txt: 100%|██████████| 872k/872k [00:00<00:00, 3.70MB/s]\n",
      "special_tokens_map.json: 100%|██████████| 112/112 [00:00<00:00, 34.5kB/s]\n",
      "pytorch_model.bin: 100%|██████████| 669M/669M [01:46<00:00, 6.30MB/s] \n"
     ]
    }
   ],
   "source": [
    "tokenizer = AutoTokenizer.from_pretrained('nlptown/bert-base-multilingual-uncased-sentiment')\n",
    "\n",
    "model = AutoModelForSequenceClassification.from_pretrained('nlptown/bert-base-multilingual-uncased-sentiment')"
   ]
  },
  {
   "cell_type": "markdown",
   "id": "ad0b6198",
   "metadata": {},
   "source": [
    "## Encode and Calculate Sentiment"
   ]
  },
  {
   "cell_type": "code",
   "execution_count": 5,
   "id": "8a5f81e8",
   "metadata": {},
   "outputs": [],
   "source": [
    "# Example\n",
    "\n",
    "tokens = tokenizer.encode(\"I loved this movie very much\", return_tensors='pt')"
   ]
  },
  {
   "cell_type": "code",
   "execution_count": 6,
   "id": "f302e510",
   "metadata": {},
   "outputs": [
    {
     "data": {
      "text/plain": [
       "tensor([[  101,   151, 46747, 10372, 13113, 12495, 12977,   102]])"
      ]
     },
     "execution_count": 6,
     "metadata": {},
     "output_type": "execute_result"
    }
   ],
   "source": [
    "tokens"
   ]
  },
  {
   "cell_type": "code",
   "execution_count": 7,
   "id": "e43aed4c",
   "metadata": {},
   "outputs": [],
   "source": [
    "result = model(tokens)"
   ]
  },
  {
   "cell_type": "code",
   "execution_count": 8,
   "id": "3f6a4cf0",
   "metadata": {},
   "outputs": [
    {
     "data": {
      "text/plain": [
       "SequenceClassifierOutput(loss=None, logits=tensor([[-2.4563, -2.3910, -0.6497,  1.6045,  3.0400]],\n",
       "       grad_fn=<AddmmBackward0>), hidden_states=None, attentions=None)"
      ]
     },
     "execution_count": 8,
     "metadata": {},
     "output_type": "execute_result"
    }
   ],
   "source": [
    "result"
   ]
  },
  {
   "cell_type": "code",
   "execution_count": 9,
   "id": "c577e446",
   "metadata": {},
   "outputs": [
    {
     "data": {
      "text/plain": [
       "tensor(4)"
      ]
     },
     "execution_count": 9,
     "metadata": {},
     "output_type": "execute_result"
    }
   ],
   "source": [
    "torch.argmax(result.logits)"
   ]
  },
  {
   "cell_type": "markdown",
   "id": "7fa0d3f4",
   "metadata": {},
   "source": [
    "### Decoding the result of the model\n",
    "\n",
    "The ratings from the model are from 1-5"
   ]
  },
  {
   "cell_type": "code",
   "execution_count": 10,
   "id": "3c4d2f53",
   "metadata": {},
   "outputs": [
    {
     "data": {
      "text/plain": [
       "5"
      ]
     },
     "execution_count": 10,
     "metadata": {},
     "output_type": "execute_result"
    }
   ],
   "source": [
    "int(torch.argmax(result.logits)) + 1"
   ]
  },
  {
   "cell_type": "markdown",
   "id": "e68e2df0",
   "metadata": {},
   "source": [
    "## Collecting Reviews\n",
    "\n",
    "\n",
    "- We will be collecting reviews for Sushi Tomi in Mountain View California. This restaurant is considered one of the best sushi places in the Bay Area. Let's see what people think about it"
   ]
  },
  {
   "cell_type": "code",
   "execution_count": 11,
   "id": "9ab219d3",
   "metadata": {},
   "outputs": [],
   "source": [
    "# Initialize variables\n",
    "reviews = []\n",
    "regex = re.compile('.*comment.*') # extract the comments from the html document\n",
    "\n",
    "# mimic a web browser by using headers\n",
    "headers = {\n",
    "   'User-Agent': 'Mozilla/5.0 (Macintosh; Intel Mac OS X 10_10_1) AppleWebKit/537.36 (KHTML, like Gecko) Chrome/39.0.2171.95 Safari/537.36'\n",
    "}\n",
    "NUM_PAGES = 251\n",
    "for page_num in range(NUM_PAGES + 1):\n",
    "    page_index = page_num*10\n",
    "    url = \"https://www.yelp.com/biz/sushi-tomi-mountain-view-2?start={}\".format(page_index)\n",
    "\n",
    "    success = False\n",
    "    while not success:\n",
    "        try:\n",
    "            html_doc = requests.get(url).text\n",
    "            success = True\n",
    "        except ConnectionError:\n",
    "            print(\"Connection failed. Retrying...\")\n",
    "            time.sleep(30)\n",
    "\n",
    "    soup = BeautifulSoup(html_doc, 'html.parser')\n",
    "    result_per_page = soup.find_all('p', {'class':regex})\n",
    "    reviews_per_page = [result.text for result in result_per_page]\n",
    "    reviews.extend(reviews_per_page)\n",
    "    time.sleep(6)\n"
   ]
  },
  {
   "cell_type": "code",
   "execution_count": 12,
   "id": "c136f105",
   "metadata": {},
   "outputs": [
    {
     "data": {
      "text/plain": [
       "['Great Japanese restaurant in the area, with well executed classics for an affordable price. But be prepared for a wait. Visited on a Sunday evening and the restaurant was packed. All tables full and maybe a 15 minute wait? Service was attentive but not doting, which is fine. A few highlights of the food: Sashimi is very good - huge portions and high quality. We got a few bento combos that had sashimi, and where most places would give you 4-5 2\"x1\"x0.5\" pieces, here you get absolutely gigantic pieces, maybe 50% more fish per slice. Quality is super good, very fresh and well selected cuts. No stringiness! Major highlight was the tuna kama (pictured) which was a special. Huge, roasty, and rich fish flavor. Bring a few friends, because this is definitely meant to be shared. Would definitely come again, although maybe on a quieter night. (Sushi, sashimi, grill items, tuna kama)',\n",
       " 'Service was incredibly slow and felt incredibly chaotic inside. Servers were running and rushing around, felt low on staff. We had high expectations because of all the high ratings however, food did not deliver.The quality of the toro in the negitoro was below expectations. You cannot taste much of the fish and the texture felt mushy. The deluxe chirashi special was alright. There was a good variety of fish.The tomi special was probably our favourite, more complex flavours and fattier fish.']"
      ]
     },
     "execution_count": 12,
     "metadata": {},
     "output_type": "execute_result"
    }
   ],
   "source": [
    "reviews[:2]"
   ]
  },
  {
   "cell_type": "code",
   "execution_count": 13,
   "id": "9eeecf8c",
   "metadata": {},
   "outputs": [
    {
     "data": {
      "text/plain": [
       "981"
      ]
     },
     "execution_count": 13,
     "metadata": {},
     "output_type": "execute_result"
    }
   ],
   "source": [
    "len(reviews)"
   ]
  },
  {
   "cell_type": "code",
   "execution_count": 14,
   "id": "ded41e1e",
   "metadata": {},
   "outputs": [
    {
     "data": {
      "text/plain": [
       "'Great Japanese restaurant in the area, with well executed classics for an affordable price. But be prepared for a wait. Visited on a Sunday evening and the restaurant was packed. All tables full and maybe a 15 minute wait? Service was attentive but not doting, which is fine. A few highlights of the food: Sashimi is very good - huge portions and high quality. We got a few bento combos that had sashimi, and where most places would give you 4-5 2\"x1\"x0.5\" pieces, here you get absolutely gigantic pieces, maybe 50% more fish per slice. Quality is super good, very fresh and well selected cuts. No stringiness! Major highlight was the tuna kama (pictured) which was a special. Huge, roasty, and rich fish flavor. Bring a few friends, because this is definitely meant to be shared. Would definitely come again, although maybe on a quieter night. (Sushi, sashimi, grill items, tuna kama)'"
      ]
     },
     "execution_count": 14,
     "metadata": {},
     "output_type": "execute_result"
    }
   ],
   "source": [
    "reviews[0]"
   ]
  },
  {
   "cell_type": "markdown",
   "id": "bd1b591e",
   "metadata": {},
   "source": [
    "## Load Reviews into a Pandas DataFrame and get the sentiment Scores"
   ]
  },
  {
   "cell_type": "code",
   "execution_count": 15,
   "id": "40918279",
   "metadata": {},
   "outputs": [],
   "source": [
    "df = pd.DataFrame(np.array(reviews), columns = ['review'])\n",
    "\n",
    "# save the dataframe to .csv file for future usage \n",
    "filename = \"sushi_tomi_yelp_reviews.csv\"\n",
    "df.to_csv(filename)"
   ]
  },
  {
   "cell_type": "code",
   "execution_count": 16,
   "id": "542dca77",
   "metadata": {},
   "outputs": [
    {
     "data": {
      "text/html": [
       "<div>\n",
       "<style scoped>\n",
       "    .dataframe tbody tr th:only-of-type {\n",
       "        vertical-align: middle;\n",
       "    }\n",
       "\n",
       "    .dataframe tbody tr th {\n",
       "        vertical-align: top;\n",
       "    }\n",
       "\n",
       "    .dataframe thead th {\n",
       "        text-align: right;\n",
       "    }\n",
       "</style>\n",
       "<table border=\"1\" class=\"dataframe\">\n",
       "  <thead>\n",
       "    <tr style=\"text-align: right;\">\n",
       "      <th></th>\n",
       "      <th>review</th>\n",
       "    </tr>\n",
       "  </thead>\n",
       "  <tbody>\n",
       "    <tr>\n",
       "      <th>0</th>\n",
       "      <td>Great Japanese restaurant in the area, with we...</td>\n",
       "    </tr>\n",
       "    <tr>\n",
       "      <th>1</th>\n",
       "      <td>Service was incredibly slow and felt incredibl...</td>\n",
       "    </tr>\n",
       "    <tr>\n",
       "      <th>2</th>\n",
       "      <td>Came with a friend on a weekday for lunch. It ...</td>\n",
       "    </tr>\n",
       "    <tr>\n",
       "      <th>3</th>\n",
       "      <td>We came around Wednesday dinner time, and ther...</td>\n",
       "    </tr>\n",
       "    <tr>\n",
       "      <th>4</th>\n",
       "      <td>Looking for fresh sushi in downtown MV? This i...</td>\n",
       "    </tr>\n",
       "    <tr>\n",
       "      <th>5</th>\n",
       "      <td>Been coming here for the past few months and t...</td>\n",
       "    </tr>\n",
       "    <tr>\n",
       "      <th>6</th>\n",
       "      <td>I quite like this place!I guess I have been he...</td>\n",
       "    </tr>\n",
       "    <tr>\n",
       "      <th>7</th>\n",
       "      <td>One of a few Japanese restaurant that is owned...</td>\n",
       "    </tr>\n",
       "    <tr>\n",
       "      <th>8</th>\n",
       "      <td>My family and I came by for dinner and were ve...</td>\n",
       "    </tr>\n",
       "    <tr>\n",
       "      <th>9</th>\n",
       "      <td>Good quality fish at Mountain View prices. Per...</td>\n",
       "    </tr>\n",
       "  </tbody>\n",
       "</table>\n",
       "</div>"
      ],
      "text/plain": [
       "                                              review\n",
       "0  Great Japanese restaurant in the area, with we...\n",
       "1  Service was incredibly slow and felt incredibl...\n",
       "2  Came with a friend on a weekday for lunch. It ...\n",
       "3  We came around Wednesday dinner time, and ther...\n",
       "4  Looking for fresh sushi in downtown MV? This i...\n",
       "5  Been coming here for the past few months and t...\n",
       "6  I quite like this place!I guess I have been he...\n",
       "7  One of a few Japanese restaurant that is owned...\n",
       "8  My family and I came by for dinner and were ve...\n",
       "9  Good quality fish at Mountain View prices. Per..."
      ]
     },
     "execution_count": 16,
     "metadata": {},
     "output_type": "execute_result"
    }
   ],
   "source": [
    "df.head(10)"
   ]
  },
  {
   "cell_type": "code",
   "execution_count": 17,
   "id": "dfcecbc8",
   "metadata": {},
   "outputs": [
    {
     "name": "stdout",
     "output_type": "stream",
     "text": [
      "<class 'pandas.core.frame.DataFrame'>\n",
      "RangeIndex: 981 entries, 0 to 980\n",
      "Data columns (total 1 columns):\n",
      " #   Column  Non-Null Count  Dtype \n",
      "---  ------  --------------  ----- \n",
      " 0   review  981 non-null    object\n",
      "dtypes: object(1)\n",
      "memory usage: 7.8+ KB\n"
     ]
    }
   ],
   "source": [
    "df.info()"
   ]
  },
  {
   "cell_type": "code",
   "execution_count": 18,
   "id": "64a2abc3",
   "metadata": {},
   "outputs": [
    {
     "data": {
      "text/plain": [
       "'Great Japanese restaurant in the area, with well executed classics for an affordable price. But be prepared for a wait. Visited on a Sunday evening and the restaurant was packed. All tables full and maybe a 15 minute wait? Service was attentive but not doting, which is fine. A few highlights of the food: Sashimi is very good - huge portions and high quality. We got a few bento combos that had sashimi, and where most places would give you 4-5 2\"x1\"x0.5\" pieces, here you get absolutely gigantic pieces, maybe 50% more fish per slice. Quality is super good, very fresh and well selected cuts. No stringiness! Major highlight was the tuna kama (pictured) which was a special. Huge, roasty, and rich fish flavor. Bring a few friends, because this is definitely meant to be shared. Would definitely come again, although maybe on a quieter night. (Sushi, sashimi, grill items, tuna kama)'"
      ]
     },
     "execution_count": 18,
     "metadata": {},
     "output_type": "execute_result"
    }
   ],
   "source": [
    "# check first review\n",
    "df['review'].iloc[0]"
   ]
  },
  {
   "cell_type": "code",
   "execution_count": 19,
   "id": "5c97e9e1",
   "metadata": {},
   "outputs": [],
   "source": [
    "# define sentiment score\n",
    "\n",
    "def sentiment_score(text):\n",
    "    tokens = tokenizer.encode(text, return_tensors='pt')\n",
    "    result = model(tokens)\n",
    "    return int(torch.argmax(result.logits))+1\n",
    "\n",
    "\n",
    "df['sentiment_score'] = df['review'].apply(lambda x: sentiment_score(x[:512])) # limited to 512 tokens per review"
   ]
  },
  {
   "cell_type": "code",
   "execution_count": 20,
   "id": "1ec2482f",
   "metadata": {},
   "outputs": [
    {
     "data": {
      "text/html": [
       "<div>\n",
       "<style scoped>\n",
       "    .dataframe tbody tr th:only-of-type {\n",
       "        vertical-align: middle;\n",
       "    }\n",
       "\n",
       "    .dataframe tbody tr th {\n",
       "        vertical-align: top;\n",
       "    }\n",
       "\n",
       "    .dataframe thead th {\n",
       "        text-align: right;\n",
       "    }\n",
       "</style>\n",
       "<table border=\"1\" class=\"dataframe\">\n",
       "  <thead>\n",
       "    <tr style=\"text-align: right;\">\n",
       "      <th></th>\n",
       "      <th>review</th>\n",
       "      <th>sentiment_score</th>\n",
       "    </tr>\n",
       "  </thead>\n",
       "  <tbody>\n",
       "    <tr>\n",
       "      <th>0</th>\n",
       "      <td>Great Japanese restaurant in the area, with we...</td>\n",
       "      <td>4</td>\n",
       "    </tr>\n",
       "    <tr>\n",
       "      <th>1</th>\n",
       "      <td>Service was incredibly slow and felt incredibl...</td>\n",
       "      <td>2</td>\n",
       "    </tr>\n",
       "    <tr>\n",
       "      <th>2</th>\n",
       "      <td>Came with a friend on a weekday for lunch. It ...</td>\n",
       "      <td>4</td>\n",
       "    </tr>\n",
       "    <tr>\n",
       "      <th>3</th>\n",
       "      <td>We came around Wednesday dinner time, and ther...</td>\n",
       "      <td>4</td>\n",
       "    </tr>\n",
       "    <tr>\n",
       "      <th>4</th>\n",
       "      <td>Looking for fresh sushi in downtown MV? This i...</td>\n",
       "      <td>4</td>\n",
       "    </tr>\n",
       "    <tr>\n",
       "      <th>5</th>\n",
       "      <td>Been coming here for the past few months and t...</td>\n",
       "      <td>5</td>\n",
       "    </tr>\n",
       "    <tr>\n",
       "      <th>6</th>\n",
       "      <td>I quite like this place!I guess I have been he...</td>\n",
       "      <td>4</td>\n",
       "    </tr>\n",
       "    <tr>\n",
       "      <th>7</th>\n",
       "      <td>One of a few Japanese restaurant that is owned...</td>\n",
       "      <td>5</td>\n",
       "    </tr>\n",
       "    <tr>\n",
       "      <th>8</th>\n",
       "      <td>My family and I came by for dinner and were ve...</td>\n",
       "      <td>5</td>\n",
       "    </tr>\n",
       "    <tr>\n",
       "      <th>9</th>\n",
       "      <td>Good quality fish at Mountain View prices. Per...</td>\n",
       "      <td>4</td>\n",
       "    </tr>\n",
       "    <tr>\n",
       "      <th>10</th>\n",
       "      <td>Sushi Tomi is located off of Castro and is a h...</td>\n",
       "      <td>4</td>\n",
       "    </tr>\n",
       "    <tr>\n",
       "      <th>11</th>\n",
       "      <td>First time here today and it was a good one. T...</td>\n",
       "      <td>4</td>\n",
       "    </tr>\n",
       "    <tr>\n",
       "      <th>12</th>\n",
       "      <td>I haven't been here in years. There is a wait ...</td>\n",
       "      <td>3</td>\n",
       "    </tr>\n",
       "    <tr>\n",
       "      <th>13</th>\n",
       "      <td>I haven't had sushi for a while so this was re...</td>\n",
       "      <td>4</td>\n",
       "    </tr>\n",
       "    <tr>\n",
       "      <th>14</th>\n",
       "      <td>This is a nice, authentic sushi joint just off...</td>\n",
       "      <td>4</td>\n",
       "    </tr>\n",
       "    <tr>\n",
       "      <th>15</th>\n",
       "      <td>So I really want to love this place since it h...</td>\n",
       "      <td>2</td>\n",
       "    </tr>\n",
       "    <tr>\n",
       "      <th>16</th>\n",
       "      <td>I got seated pretty quickly I went after work ...</td>\n",
       "      <td>4</td>\n",
       "    </tr>\n",
       "    <tr>\n",
       "      <th>17</th>\n",
       "      <td>Our favorite sushi place since we've moved to ...</td>\n",
       "      <td>5</td>\n",
       "    </tr>\n",
       "    <tr>\n",
       "      <th>18</th>\n",
       "      <td>Went to this place on accident while trying to...</td>\n",
       "      <td>5</td>\n",
       "    </tr>\n",
       "    <tr>\n",
       "      <th>19</th>\n",
       "      <td>We used to come here before they remodeled but...</td>\n",
       "      <td>2</td>\n",
       "    </tr>\n",
       "  </tbody>\n",
       "</table>\n",
       "</div>"
      ],
      "text/plain": [
       "                                               review  sentiment_score\n",
       "0   Great Japanese restaurant in the area, with we...                4\n",
       "1   Service was incredibly slow and felt incredibl...                2\n",
       "2   Came with a friend on a weekday for lunch. It ...                4\n",
       "3   We came around Wednesday dinner time, and ther...                4\n",
       "4   Looking for fresh sushi in downtown MV? This i...                4\n",
       "5   Been coming here for the past few months and t...                5\n",
       "6   I quite like this place!I guess I have been he...                4\n",
       "7   One of a few Japanese restaurant that is owned...                5\n",
       "8   My family and I came by for dinner and were ve...                5\n",
       "9   Good quality fish at Mountain View prices. Per...                4\n",
       "10  Sushi Tomi is located off of Castro and is a h...                4\n",
       "11  First time here today and it was a good one. T...                4\n",
       "12  I haven't been here in years. There is a wait ...                3\n",
       "13  I haven't had sushi for a while so this was re...                4\n",
       "14  This is a nice, authentic sushi joint just off...                4\n",
       "15  So I really want to love this place since it h...                2\n",
       "16  I got seated pretty quickly I went after work ...                4\n",
       "17  Our favorite sushi place since we've moved to ...                5\n",
       "18  Went to this place on accident while trying to...                5\n",
       "19  We used to come here before they remodeled but...                2"
      ]
     },
     "execution_count": 20,
     "metadata": {},
     "output_type": "execute_result"
    }
   ],
   "source": [
    "df.head(20)"
   ]
  },
  {
   "cell_type": "code",
   "execution_count": 21,
   "id": "eb738dee",
   "metadata": {},
   "outputs": [
    {
     "data": {
      "text/plain": [
       "3.8297655453618757"
      ]
     },
     "execution_count": 21,
     "metadata": {},
     "output_type": "execute_result"
    }
   ],
   "source": [
    "df['sentiment_score'].mean()"
   ]
  },
  {
   "cell_type": "code",
   "execution_count": 22,
   "id": "fbfffd2e",
   "metadata": {},
   "outputs": [
    {
     "data": {
      "text/plain": [
       "0    5\n",
       "Name: sentiment_score, dtype: int64"
      ]
     },
     "execution_count": 22,
     "metadata": {},
     "output_type": "execute_result"
    }
   ],
   "source": [
    "df['sentiment_score'].mode()"
   ]
  },
  {
   "cell_type": "code",
   "execution_count": 23,
   "id": "2c21da3a",
   "metadata": {},
   "outputs": [
    {
     "data": {
      "text/plain": [
       "4.0"
      ]
     },
     "execution_count": 23,
     "metadata": {},
     "output_type": "execute_result"
    }
   ],
   "source": [
    "df['sentiment_score'].median()"
   ]
  },
  {
   "cell_type": "code",
   "execution_count": null,
   "id": "c8a770d0",
   "metadata": {},
   "outputs": [],
   "source": []
  }
 ],
 "metadata": {
  "kernelspec": {
   "display_name": "Python 3 (ipykernel)",
   "language": "python",
   "name": "python3"
  },
  "language_info": {
   "codemirror_mode": {
    "name": "ipython",
    "version": 3
   },
   "file_extension": ".py",
   "mimetype": "text/x-python",
   "name": "python",
   "nbconvert_exporter": "python",
   "pygments_lexer": "ipython3",
   "version": "3.10.11"
  }
 },
 "nbformat": 4,
 "nbformat_minor": 5
}
