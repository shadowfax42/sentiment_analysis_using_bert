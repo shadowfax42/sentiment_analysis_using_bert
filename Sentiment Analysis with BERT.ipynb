{
 "cells": [
  {
   "cell_type": "markdown",
   "id": "e34112ec",
   "metadata": {},
   "source": [
    "# Sentiment Analysis of Restaurant reviews using BERT"
   ]
  },
  {
   "cell_type": "markdown",
   "id": "67dcb96f",
   "metadata": {},
   "source": [
    "## Install dependencies"
   ]
  },
  {
   "cell_type": "code",
   "execution_count": null,
   "id": "3cd5dc99",
   "metadata": {},
   "outputs": [],
   "source": [
    "!pip install torch torchvision torchaudio"
   ]
  },
  {
   "cell_type": "code",
   "execution_count": null,
   "id": "cd6799f4",
   "metadata": {},
   "outputs": [],
   "source": [
    "!pip install transformers requests beautifulsoup4 pandas numpy"
   ]
  },
  {
   "cell_type": "code",
   "execution_count": null,
   "id": "393cdfe0",
   "metadata": {},
   "outputs": [],
   "source": [
    "from transformers import AutoTokenizer, AutoModelForSequenceClassification\n",
    "import torch\n",
    "import requests\n",
    "from bs4 import BeautifulSoup\n",
    "import re\n",
    "import pandas as pd\n",
    "import numpy as np\n",
    "import time"
   ]
  },
  {
   "cell_type": "markdown",
   "id": "7ce80f3b",
   "metadata": {},
   "source": [
    "## Instantiate Model"
   ]
  },
  {
   "cell_type": "code",
   "execution_count": null,
   "id": "277939b9",
   "metadata": {},
   "outputs": [],
   "source": [
    "tokenizer = AutoTokenizer.from_pretrained('nlptown/bert-base-multilingual-uncased-sentiment')\n",
    "\n",
    "model = AutoModelForSequenceClassification.from_pretrained('nlptown/bert-base-multilingual-uncased-sentiment')"
   ]
  },
  {
   "cell_type": "markdown",
   "id": "ad0b6198",
   "metadata": {},
   "source": [
    "## Encode and Calculate Sentiment"
   ]
  },
  {
   "cell_type": "code",
   "execution_count": null,
   "id": "8a5f81e8",
   "metadata": {},
   "outputs": [],
   "source": [
    "# Example\n",
    "\n",
    "tokens = tokenizer.encode(\"I loved this movie very much\", return_tensors='pt')"
   ]
  },
  {
   "cell_type": "code",
   "execution_count": null,
   "id": "f302e510",
   "metadata": {},
   "outputs": [],
   "source": [
    "tokens"
   ]
  },
  {
   "cell_type": "code",
   "execution_count": null,
   "id": "e43aed4c",
   "metadata": {},
   "outputs": [],
   "source": [
    "result = model(tokens)"
   ]
  },
  {
   "cell_type": "code",
   "execution_count": null,
   "id": "3f6a4cf0",
   "metadata": {},
   "outputs": [],
   "source": [
    "result"
   ]
  },
  {
   "cell_type": "code",
   "execution_count": null,
   "id": "c577e446",
   "metadata": {},
   "outputs": [],
   "source": [
    "torch.argmax(result.logits)"
   ]
  },
  {
   "cell_type": "markdown",
   "id": "7fa0d3f4",
   "metadata": {},
   "source": [
    "### Decoding the result of the model\n",
    "\n",
    "The ratings from the model are from 1-5"
   ]
  },
  {
   "cell_type": "code",
   "execution_count": null,
   "id": "3c4d2f53",
   "metadata": {},
   "outputs": [],
   "source": [
    "int(torch.argmax(result.logits)) + 1"
   ]
  },
  {
   "cell_type": "markdown",
   "id": "e68e2df0",
   "metadata": {},
   "source": [
    "## Collecting Reviews\n",
    "\n",
    "\n",
    "- We will be collecting reviews for Sushi Tomi in Mountain View California. This restaurant is considered one of the best sushi places in the Bay Area. Let's see what people think about it"
   ]
  },
  {
   "cell_type": "code",
   "execution_count": null,
   "id": "9ab219d3",
   "metadata": {},
   "outputs": [],
   "source": [
    "# Initialize variables\n",
    "reviews = []\n",
    "regex = re.compile('.*comment.*') # extract the comments from the html document\n",
    "\n",
    "# mimic a web browser by using headers\n",
    "headers = {\n",
    "   'User-Agent': 'Mozilla/5.0 (Macintosh; Intel Mac OS X 10_10_1) AppleWebKit/537.36 (KHTML, like Gecko) Chrome/39.0.2171.95 Safari/537.36'\n",
    "}\n",
    "NUM_PAGES = 251\n",
    "for page_num in range(NUM_PAGES + 1):\n",
    "    page_index = page_num*10\n",
    "    url = \"https://www.yelp.com/biz/sushi-tomi-mountain-view-2?start={}\".format(page_index)\n",
    "\n",
    "    success = False\n",
    "    while not success:\n",
    "        try:\n",
    "            html_doc = requests.get(url).text\n",
    "            success = True\n",
    "        except ConnectionError:\n",
    "            print(\"Connection failed. Retrying...\")\n",
    "            time.sleep(30)\n",
    "\n",
    "    soup = BeautifulSoup(html_doc, 'html.parser')\n",
    "    result_per_page = soup.find_all('p', {'class':regex})\n",
    "    reviews_per_page = [result.text for result in result_per_page]\n",
    "    reviews.extend(reviews_per_page)\n",
    "    time.sleep(6)\n"
   ]
  },
  {
   "cell_type": "code",
   "execution_count": null,
   "id": "c136f105",
   "metadata": {},
   "outputs": [],
   "source": [
    "reviews[:2]"
   ]
  },
  {
   "cell_type": "code",
   "execution_count": null,
   "id": "9eeecf8c",
   "metadata": {},
   "outputs": [],
   "source": [
    "len(reviews)"
   ]
  },
  {
   "cell_type": "code",
   "execution_count": null,
   "id": "ded41e1e",
   "metadata": {},
   "outputs": [],
   "source": [
    "reviews[0]"
   ]
  },
  {
   "cell_type": "markdown",
   "id": "bd1b591e",
   "metadata": {},
   "source": [
    "## Load Reviews into a Pandas DataFrame and get the sentiment Scores"
   ]
  },
  {
   "cell_type": "code",
   "execution_count": null,
   "id": "40918279",
   "metadata": {},
   "outputs": [],
   "source": [
    "df = pd.DataFrame(np.array(reviews), columns = ['review'])\n",
    "\n",
    "# save the dataframe to .csv file for future usage \n",
    "filename = \"sushi_tomi_yelp_reviews.csv\"\n",
    "df.to_csv(filename)"
   ]
  },
  {
   "cell_type": "code",
   "execution_count": null,
   "id": "542dca77",
   "metadata": {},
   "outputs": [],
   "source": [
    "df.head(10)"
   ]
  },
  {
   "cell_type": "code",
   "execution_count": null,
   "id": "dfcecbc8",
   "metadata": {},
   "outputs": [],
   "source": [
    "df.info()"
   ]
  },
  {
   "cell_type": "code",
   "execution_count": null,
   "id": "64a2abc3",
   "metadata": {},
   "outputs": [],
   "source": [
    "# check first review\n",
    "df['review'].iloc[0]"
   ]
  },
  {
   "cell_type": "code",
   "execution_count": null,
   "id": "5c97e9e1",
   "metadata": {},
   "outputs": [],
   "source": [
    "# define sentiment score\n",
    "\n",
    "def sentiment_score(text):\n",
    "    tokens = tokenizer.encode(text, return_tensors='pt')\n",
    "    result = model(tokens)\n",
    "    return int(torch.argmax(result.logits))+1\n",
    "\n",
    "\n",
    "df['sentiment_score'] = df['review'].apply(lambda x: sentiment_score(x[:512])) # limited to 512 tokens per review"
   ]
  },
  {
   "cell_type": "code",
   "execution_count": null,
   "id": "1ec2482f",
   "metadata": {},
   "outputs": [],
   "source": [
    "df.head(20)"
   ]
  },
  {
   "cell_type": "code",
   "execution_count": null,
   "id": "eb738dee",
   "metadata": {},
   "outputs": [],
   "source": [
    "df['sentiment_score'].mean()"
   ]
  },
  {
   "cell_type": "code",
   "execution_count": null,
   "id": "fbfffd2e",
   "metadata": {},
   "outputs": [],
   "source": [
    "df['sentiment_score'].mode()"
   ]
  },
  {
   "cell_type": "code",
   "execution_count": null,
   "id": "2c21da3a",
   "metadata": {},
   "outputs": [],
   "source": []
  }
 ],
 "metadata": {
  "kernelspec": {
   "display_name": "Python 3 (ipykernel)",
   "language": "python",
   "name": "python3"
  },
  "language_info": {
   "codemirror_mode": {
    "name": "ipython",
    "version": 3
   },
   "file_extension": ".py",
   "mimetype": "text/x-python",
   "name": "python",
   "nbconvert_exporter": "python",
   "pygments_lexer": "ipython3",
   "version": "3.9.12"
  }
 },
 "nbformat": 4,
 "nbformat_minor": 5
}
